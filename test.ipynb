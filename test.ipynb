{
  "nbformat": 4,
  "nbformat_minor": 0,
  "metadata": {
    "colab": {
      "name": "App_Reviews_Visualizer.ipynb",
      "provenance": [],
      "mount_file_id": "1Bnass2f_EVNUSw_f1iaW06jJ1zU3X5Gt",
      "authorship_tag": "ABX9TyMOa2dQW6CLRsnLBaovaf4Y",
      "include_colab_link": true
    },
    "kernelspec": {
      "name": "python3",
      "display_name": "Python 3"
    },
    "language_info": {
      "name": "python"
    },
    "accelerator": "GPU"
  },
  "cells": [
    {
      "cell_type": "markdown",
      "metadata": {
        "id": "view-in-github",
        "colab_type": "text"
      },
      "source": [
        "<a href=\"https://colab.research.google.com/github/zeeshansalim1234/App_Reviews_Visualizer/blob/main/App_Reviews_Visualizer.ipynb\" target=\"_parent\"><img src=\"https://colab.research.google.com/assets/colab-badge.svg\" alt=\"Open In Colab\"/></a>"
      ]
    },
    {
      "cell_type": "markdown",
      "metadata": {
        "id": "HX3uZVeKqVc9"
      },
      "source": [
        "#Installing Libraries"
      ]
    },
    {
      "cell_type": "code",
      "metadata": {
        "colab": {
          "base_uri": "https://localhost:8080/"
        },
        "id": "4pq8oxVupfzB",
        "outputId": "03c9e643-3b54-4024-8551-b4fa8d9a09f8"
      },
      "source": [
        "!pip install google_play_scraper\n",
        "!pip install sklearn\n",
        "!pip install transformers requests beautifulsoup4 pandas numpy"
      ],
      "execution_count": 8,
      "outputs": [
        {
          "output_type": "stream",
          "name": "stdout",
          "text": [
            "Requirement already satisfied: google_play_scraper in /usr/local/lib/python3.7/dist-packages (1.0.2)\n",
            "Requirement already satisfied: sklearn in /usr/local/lib/python3.7/dist-packages (0.0)\n",
            "Requirement already satisfied: scikit-learn in /usr/local/lib/python3.7/dist-packages (from sklearn) (0.22.2.post1)\n",
            "Requirement already satisfied: scipy>=0.17.0 in /usr/local/lib/python3.7/dist-packages (from scikit-learn->sklearn) (1.4.1)\n",
            "Requirement already satisfied: joblib>=0.11 in /usr/local/lib/python3.7/dist-packages (from scikit-learn->sklearn) (1.0.1)\n",
            "Requirement already satisfied: numpy>=1.11.0 in /usr/local/lib/python3.7/dist-packages (from scikit-learn->sklearn) (1.19.5)\n",
            "Requirement already satisfied: transformers in /usr/local/lib/python3.7/dist-packages (4.11.3)\n",
            "Requirement already satisfied: requests in /usr/local/lib/python3.7/dist-packages (2.23.0)\n",
            "Requirement already satisfied: beautifulsoup4 in /usr/local/lib/python3.7/dist-packages (4.6.3)\n",
            "Requirement already satisfied: pandas in /usr/local/lib/python3.7/dist-packages (1.1.5)\n",
            "Requirement already satisfied: numpy in /usr/local/lib/python3.7/dist-packages (1.19.5)\n",
            "Requirement already satisfied: packaging>=20.0 in /usr/local/lib/python3.7/dist-packages (from transformers) (21.0)\n",
            "Requirement already satisfied: filelock in /usr/local/lib/python3.7/dist-packages (from transformers) (3.3.0)\n",
            "Requirement already satisfied: sacremoses in /usr/local/lib/python3.7/dist-packages (from transformers) (0.0.46)\n",
            "Requirement already satisfied: huggingface-hub>=0.0.17 in /usr/local/lib/python3.7/dist-packages (from transformers) (0.0.19)\n",
            "Requirement already satisfied: tqdm>=4.27 in /usr/local/lib/python3.7/dist-packages (from transformers) (4.62.3)\n",
            "Requirement already satisfied: pyyaml>=5.1 in /usr/local/lib/python3.7/dist-packages (from transformers) (6.0)\n",
            "Requirement already satisfied: tokenizers<0.11,>=0.10.1 in /usr/local/lib/python3.7/dist-packages (from transformers) (0.10.3)\n",
            "Requirement already satisfied: regex!=2019.12.17 in /usr/local/lib/python3.7/dist-packages (from transformers) (2019.12.20)\n",
            "Requirement already satisfied: importlib-metadata in /usr/local/lib/python3.7/dist-packages (from transformers) (4.8.1)\n",
            "Requirement already satisfied: typing-extensions in /usr/local/lib/python3.7/dist-packages (from huggingface-hub>=0.0.17->transformers) (3.7.4.3)\n",
            "Requirement already satisfied: pyparsing>=2.0.2 in /usr/local/lib/python3.7/dist-packages (from packaging>=20.0->transformers) (2.4.7)\n",
            "Requirement already satisfied: urllib3!=1.25.0,!=1.25.1,<1.26,>=1.21.1 in /usr/local/lib/python3.7/dist-packages (from requests) (1.24.3)\n",
            "Requirement already satisfied: chardet<4,>=3.0.2 in /usr/local/lib/python3.7/dist-packages (from requests) (3.0.4)\n",
            "Requirement already satisfied: certifi>=2017.4.17 in /usr/local/lib/python3.7/dist-packages (from requests) (2021.5.30)\n",
            "Requirement already satisfied: idna<3,>=2.5 in /usr/local/lib/python3.7/dist-packages (from requests) (2.10)\n",
            "Requirement already satisfied: python-dateutil>=2.7.3 in /usr/local/lib/python3.7/dist-packages (from pandas) (2.8.2)\n",
            "Requirement already satisfied: pytz>=2017.2 in /usr/local/lib/python3.7/dist-packages (from pandas) (2018.9)\n",
            "Requirement already satisfied: six>=1.5 in /usr/local/lib/python3.7/dist-packages (from python-dateutil>=2.7.3->pandas) (1.15.0)\n",
            "Requirement already satisfied: zipp>=0.5 in /usr/local/lib/python3.7/dist-packages (from importlib-metadata->transformers) (3.6.0)\n",
            "Requirement already satisfied: joblib in /usr/local/lib/python3.7/dist-packages (from sacremoses->transformers) (1.0.1)\n",
            "Requirement already satisfied: click in /usr/local/lib/python3.7/dist-packages (from sacremoses->transformers) (7.1.2)\n"
          ]
        }
      ]
    },
    {
      "cell_type": "code",
      "metadata": {
        "colab": {
          "base_uri": "https://localhost:8080/"
        },
        "id": "Ckyqy3lgpII-",
        "outputId": "6d7e28c5-b1a3-4040-d706-d11aec56705e"
      },
      "source": [
        "!pip install torch"
      ],
      "execution_count": 1,
      "outputs": [
        {
          "output_type": "stream",
          "name": "stdout",
          "text": [
            "Requirement already satisfied: torch in /usr/local/lib/python3.7/dist-packages (1.9.0+cu111)\n",
            "Requirement already satisfied: typing-extensions in /usr/local/lib/python3.7/dist-packages (from torch) (3.7.4.3)\n"
          ]
        }
      ]
    },
    {
      "cell_type": "code",
      "metadata": {
        "colab": {
          "base_uri": "https://localhost:8080/"
        },
        "id": "k6QAGsyppW-y",
        "outputId": "b39d0405-c211-44c4-8393-9add5b78e0e4"
      },
      "source": [
        "!pip install neattext"
      ],
      "execution_count": 2,
      "outputs": [
        {
          "output_type": "stream",
          "name": "stdout",
          "text": [
            "Collecting neattext\n",
            "  Downloading neattext-0.1.2-py3-none-any.whl (114 kB)\n",
            "\u001b[?25l\r\u001b[K     |██▉                             | 10 kB 22.3 MB/s eta 0:00:01\r\u001b[K     |█████▊                          | 20 kB 10.2 MB/s eta 0:00:01\r\u001b[K     |████████▋                       | 30 kB 8.4 MB/s eta 0:00:01\r\u001b[K     |███████████▌                    | 40 kB 7.9 MB/s eta 0:00:01\r\u001b[K     |██████████████▍                 | 51 kB 5.3 MB/s eta 0:00:01\r\u001b[K     |█████████████████▏              | 61 kB 5.5 MB/s eta 0:00:01\r\u001b[K     |████████████████████            | 71 kB 5.3 MB/s eta 0:00:01\r\u001b[K     |███████████████████████         | 81 kB 5.9 MB/s eta 0:00:01\r\u001b[K     |█████████████████████████▉      | 92 kB 6.1 MB/s eta 0:00:01\r\u001b[K     |████████████████████████████▊   | 102 kB 5.3 MB/s eta 0:00:01\r\u001b[K     |███████████████████████████████▋| 112 kB 5.3 MB/s eta 0:00:01\r\u001b[K     |████████████████████████████████| 114 kB 5.3 MB/s \n",
            "\u001b[?25hInstalling collected packages: neattext\n",
            "Successfully installed neattext-0.1.2\n"
          ]
        }
      ]
    },
    {
      "cell_type": "markdown",
      "metadata": {
        "id": "9KiB-wiRqjim"
      },
      "source": [
        "# Importing Libraries"
      ]
    },
    {
      "cell_type": "code",
      "metadata": {
        "colab": {
          "base_uri": "https://localhost:8080/"
        },
        "id": "kjONqzaBpZRa",
        "outputId": "374dd52d-96be-4456-f700-53653d95a1ff"
      },
      "source": [
        "import transformers\n",
        "from transformers import AutoTokenizer, AutoModelForSequenceClassification\n",
        "import torch\n",
        "import requests\n",
        "from bs4 import BeautifulSoup\n",
        "import re\n",
        "import seaborn as sns\n",
        "import neattext.functions as nfx\n",
        "import pandas as pd\n",
        "import numpy as np\n",
        "import matplotlib.pyplot as plt\n",
        "from wordcloud import WordCloud\n",
        "from sklearn.feature_extraction.text import TfidfVectorizer\n",
        "pd.set_option('display.max_colwidth', 1000) \n",
        "import nltk\n",
        "from sklearn.feature_extraction.text import CountVectorizer\n",
        "nltk.download('punkt')\n",
        "nltk.download('stopwords')\n",
        "\n",
        "from google_play_scraper.features.reviews import Sort, reviews_all, reviews\n",
        "from sklearn.feature_extraction.text import CountVectorizer\n",
        "from sklearn.decomposition import LatentDirichletAllocation\n",
        "\n"
      ],
      "execution_count": 18,
      "outputs": [
        {
          "output_type": "stream",
          "name": "stdout",
          "text": [
            "[nltk_data] Downloading package punkt to /root/nltk_data...\n",
            "[nltk_data]   Package punkt is already up-to-date!\n",
            "[nltk_data] Downloading package stopwords to /root/nltk_data...\n",
            "[nltk_data]   Package stopwords is already up-to-date!\n"
          ]
        }
      ]
    },
    {
      "cell_type": "markdown",
      "metadata": {
        "id": "Npf_cnkNqwTz"
      },
      "source": [
        "# Scrapping App Reviews from Google Play Store"
      ]
    },
    {
      "cell_type": "code",
      "metadata": {
        "id": "G6cEiuV6pZTu"
      },
      "source": [
        "result,continuation_token= reviews('com.ubercab',lang='en',country='us',sort=Sort.MOST_RELEVANT, count=10000)"
      ],
      "execution_count": 11,
      "outputs": []
    },
    {
      "cell_type": "code",
      "metadata": {
        "id": "oQ2_O2FrpZVi"
      },
      "source": [
        "df = pd.DataFrame(result)\n",
        "df"
      ],
      "execution_count": null,
      "outputs": []
    },
    {
      "cell_type": "code",
      "metadata": {
        "colab": {
          "base_uri": "https://localhost:8080/",
          "height": 572
        },
        "id": "lf89TSJUwQRX",
        "outputId": "93c6929f-6c88-42bd-f04e-926259730d06"
      },
      "source": [
        "df_app=pd.DataFrame(np.array(df['content']),columns=['review'])\n",
        "df_app"
      ],
      "execution_count": 19,
      "outputs": [
        {
          "output_type": "execute_result",
          "data": {
            "text/html": [
              "<div>\n",
              "<style scoped>\n",
              "    .dataframe tbody tr th:only-of-type {\n",
              "        vertical-align: middle;\n",
              "    }\n",
              "\n",
              "    .dataframe tbody tr th {\n",
              "        vertical-align: top;\n",
              "    }\n",
              "\n",
              "    .dataframe thead th {\n",
              "        text-align: right;\n",
              "    }\n",
              "</style>\n",
              "<table border=\"1\" class=\"dataframe\">\n",
              "  <thead>\n",
              "    <tr style=\"text-align: right;\">\n",
              "      <th></th>\n",
              "      <th>review</th>\n",
              "    </tr>\n",
              "  </thead>\n",
              "  <tbody>\n",
              "    <tr>\n",
              "      <th>0</th>\n",
              "      <td>It used to be a great app, i used it for everything, but since drivers are just wasting your time by canceling the trips, sometimes even at the point of pick up, and its not just once but sometimes it happens to the point of not having any drivers available. The reason: they dont accept debit/credit cards anymore, just cash. And it is for every trip i request. Totally disapointed. I wont use it again! :(</td>\n",
              "    </tr>\n",
              "    <tr>\n",
              "      <th>1</th>\n",
              "      <td>Painful experience. First, the app halts after every map movement when selecting location. Second, everytime it connects to a driver, driver accepts the ride and the first message of the driver is \"Where do you want to go?\" and then the driver decides whether to continue the ride or not. Sometimes we have to wait and talk to 3-4 drivers and waste 30-40 minutes before finally using the ride. This is not acceptable in any way. Why every driver wants 5-10 minutes ride? Maybe your incentives.</td>\n",
              "    </tr>\n",
              "    <tr>\n",
              "      <th>2</th>\n",
              "      <td>I would say horrible customer service, but that would mean they have customer service! I waited outside for over an hour trying to reactivate my account after being told, \"since you're in an unsafe location, but currently safe, I will report your concerns and the team will be with you shortly.\" After 40mins I called again and was told the same thing. What is the purpose of having a safety or emergency line when they don't help you in a safety or emergency situation?</td>\n",
              "    </tr>\n",
              "    <tr>\n",
              "      <th>3</th>\n",
              "      <td>Not sure what happened since COVID - probably 2 yrs since my last trip - but it seems in the effort to streamline, the app has become confusing: to set pick-up points, determine where the vehicles are, (ie: what the wait time is) and even the vehicle tiers have changed. I get that there are users that learn the ins and outs every time there is an app update, but if you want to attract more casual users, stop changing the interface. After 10 minutes of mucking about, I just grabbed a cab.</td>\n",
              "    </tr>\n",
              "    <tr>\n",
              "      <th>4</th>\n",
              "      <td>Usally an ok app but twice I've had trouble with rides and have received little help. Today a driver drove to the drop off address instead of picking me up and when I called her all she said to do was cancel it. Contacted customer service and they refuse to give me my money back even though I was never in the car. Most of the time its 5 stars but the customer service is a 1 if I could give it 0 stars I would .</td>\n",
              "    </tr>\n",
              "    <tr>\n",
              "      <th>...</th>\n",
              "      <td>...</td>\n",
              "    </tr>\n",
              "    <tr>\n",
              "      <th>9995</th>\n",
              "      <td>Every time I schedule in advance my driver is a minimum of 30 minutes late. I schedule to arrive at my destination on time, two stars for lack of reliability.</td>\n",
              "    </tr>\n",
              "    <tr>\n",
              "      <th>9996</th>\n",
              "      <td>There are no ads within applications, wait yes there is to tailored individual taste. The app is simple easy for anyone ,</td>\n",
              "    </tr>\n",
              "    <tr>\n",
              "      <th>9997</th>\n",
              "      <td>Drivers can fail to find you and still charge you. Using alternatives from now on.</td>\n",
              "    </tr>\n",
              "    <tr>\n",
              "      <th>9998</th>\n",
              "      <td>Absolutely horrible Wait 29 mins for a car that never shows up. Tried 3 times was left stranded.</td>\n",
              "    </tr>\n",
              "    <tr>\n",
              "      <th>9999</th>\n",
              "      <td>Need operate better the maps but it's an amazing option</td>\n",
              "    </tr>\n",
              "  </tbody>\n",
              "</table>\n",
              "<p>10000 rows × 1 columns</p>\n",
              "</div>"
            ],
            "text/plain": [
              "                                                                                                                                                                                                                                                                                                                                                                                                                                                                                                             review\n",
              "0                                                                                           It used to be a great app, i used it for everything, but since drivers are just wasting your time by canceling the trips, sometimes even at the point of pick up, and its not just once but sometimes it happens to the point of not having any drivers available. The reason: they dont accept debit/credit cards anymore, just cash. And it is for every trip i request. Totally disapointed. I wont use it again! :(\n",
              "1     Painful experience. First, the app halts after every map movement when selecting location. Second, everytime it connects to a driver, driver accepts the ride and the first message of the driver is \"Where do you want to go?\" and then the driver decides whether to continue the ride or not. Sometimes we have to wait and talk to 3-4 drivers and waste 30-40 minutes before finally using the ride. This is not acceptable in any way. Why every driver wants 5-10 minutes ride? Maybe your incentives.\n",
              "2                            I would say horrible customer service, but that would mean they have customer service! I waited outside for over an hour trying to reactivate my account after being told, \"since you're in an unsafe location, but currently safe, I will report your concerns and the team will be with you shortly.\" After 40mins I called again and was told the same thing. What is the purpose of having a safety or emergency line when they don't help you in a safety or emergency situation?\n",
              "3      Not sure what happened since COVID - probably 2 yrs since my last trip - but it seems in the effort to streamline, the app has become confusing: to set pick-up points, determine where the vehicles are, (ie: what the wait time is) and even the vehicle tiers have changed. I get that there are users that learn the ins and outs every time there is an app update, but if you want to attract more casual users, stop changing the interface. After 10 minutes of mucking about, I just grabbed a cab.\n",
              "4                                                                                     Usally an ok app but twice I've had trouble with rides and have received little help. Today a driver drove to the drop off address instead of picking me up and when I called her all she said to do was cancel it. Contacted customer service and they refuse to give me my money back even though I was never in the car. Most of the time its 5 stars but the customer service is a 1 if I could give it 0 stars I would .\n",
              "...                                                                                                                                                                                                                                                                                                                                                                                                                                                                                                             ...\n",
              "9995                                                                                                                                                                                                                                                                                                                                                 Every time I schedule in advance my driver is a minimum of 30 minutes late. I schedule to arrive at my destination on time, two stars for lack of reliability.\n",
              "9996                                                                                                                                                                                                                                                                                                                                                                                      There are no ads within applications, wait yes there is to tailored individual taste. The app is simple easy for anyone ,\n",
              "9997                                                                                                                                                                                                                                                                                                                                                                                                                             Drivers can fail to find you and still charge you. Using alternatives from now on.\n",
              "9998                                                                                                                                                                                                                                                                                                                                                                                                               Absolutely horrible Wait 29 mins for a car that never shows up. Tried 3 times was left stranded.\n",
              "9999                                                                                                                                                                                                                                                                                                                                                                                                                                                        Need operate better the maps but it's an amazing option\n",
              "\n",
              "[10000 rows x 1 columns]"
            ]
          },
          "metadata": {},
          "execution_count": 19
        }
      ]
    },
    {
      "cell_type": "markdown",
      "metadata": {
        "id": "bq3HAjkNq7ME"
      },
      "source": [
        "# Processing the Data"
      ]
    },
    {
      "cell_type": "code",
      "metadata": {
        "id": "SGqb5SWEwRKI"
      },
      "source": [
        "df_app['review']=df_app['review'].apply(nfx.remove_hashtags).apply(nfx.remove_emojis).apply(nfx.remove_urls).apply(nfx.remove_userhandles).apply(nfx.remove_multiple_spaces).apply(nfx.remove_punctuations)"
      ],
      "execution_count": 28,
      "outputs": []
    },
    {
      "cell_type": "markdown",
      "metadata": {
        "id": "0W5cbJAGrCiX"
      },
      "source": [
        "# Negative Reviews Ectraction(Sentiment Analysis) with BERT"
      ]
    },
    {
      "cell_type": "code",
      "metadata": {
        "id": "trVjSPHMwRMt"
      },
      "source": [
        "tokenizer = AutoTokenizer.from_pretrained('nlptown/bert-base-multilingual-uncased-sentiment')\n",
        "model = AutoModelForSequenceClassification.from_pretrained('nlptown/bert-base-multilingual-uncased-sentiment')"
      ],
      "execution_count": 29,
      "outputs": []
    },
    {
      "cell_type": "code",
      "metadata": {
        "colab": {
          "base_uri": "https://localhost:8080/",
          "height": 572
        },
        "id": "9puRtEU6wRRq",
        "outputId": "84a1dd8c-0ca8-4e79-8622-efca8c6795a4"
      },
      "source": [
        "def get_sentiment_score(text):\n",
        "  tokens = tokenizer.encode(text, return_tensors='pt')\n",
        "  result= model(tokens)\n",
        "  return int(torch.argmax(result.logits))+1\n",
        "\n",
        "df_app"
      ],
      "execution_count": 33,
      "outputs": [
        {
          "output_type": "execute_result",
          "data": {
            "text/html": [
              "<div>\n",
              "<style scoped>\n",
              "    .dataframe tbody tr th:only-of-type {\n",
              "        vertical-align: middle;\n",
              "    }\n",
              "\n",
              "    .dataframe tbody tr th {\n",
              "        vertical-align: top;\n",
              "    }\n",
              "\n",
              "    .dataframe thead th {\n",
              "        text-align: right;\n",
              "    }\n",
              "</style>\n",
              "<table border=\"1\" class=\"dataframe\">\n",
              "  <thead>\n",
              "    <tr style=\"text-align: right;\">\n",
              "      <th></th>\n",
              "      <th>review</th>\n",
              "    </tr>\n",
              "  </thead>\n",
              "  <tbody>\n",
              "    <tr>\n",
              "      <th>0</th>\n",
              "      <td>It used to be a great app i used it for everything but since drivers are just wasting your time by canceling the trips sometimes even at the point of pick up and its not just once but sometimes it happens to the point of not having any drivers available The reason: they dont accept debit/credit cards anymore just cash And it is for every trip i request Totally disapointed I wont use it again :(</td>\n",
              "    </tr>\n",
              "    <tr>\n",
              "      <th>1</th>\n",
              "      <td>Painful experience First the app halts after every map movement when selecting location Second everytime it connects to a driver driver accepts the ride and the first message of the driver is Where do you want to go and then the driver decides whether to continue the ride or not Sometimes we have to wait and talk to 34 drivers and waste 3040 minutes before finally using the ride This is not acceptable in any way Why every driver wants 510 minutes ride Maybe your incentives</td>\n",
              "    </tr>\n",
              "    <tr>\n",
              "      <th>2</th>\n",
              "      <td>I would say horrible customer service but that would mean they have customer service I waited outside for over an hour trying to reactivate my account after being told since youre in an unsafe location but currently safe I will report your concerns and the team will be with you shortly After 40mins I called again and was told the same thing What is the purpose of having a safety or emergency line when they dont help you in a safety or emergency situation</td>\n",
              "    </tr>\n",
              "    <tr>\n",
              "      <th>3</th>\n",
              "      <td>Not sure what happened since COVID  probably 2 yrs since my last trip  but it seems in the effort to streamline the app has become confusing: to set pickup points determine where the vehicles are (ie: what the wait time is) and even the vehicle tiers have changed I get that there are users that learn the ins and outs every time there is an app update but if you want to attract more casual users stop changing the interface After 10 minutes of mucking about I just grabbed a cab</td>\n",
              "    </tr>\n",
              "    <tr>\n",
              "      <th>4</th>\n",
              "      <td>Usally an ok app but twice Ive had trouble with rides and have received little help Today a driver drove to the drop off address instead of picking me up and when I called her all she said to do was cancel it Contacted customer service and they refuse to give me my money back even though I was never in the car Most of the time its 5 stars but the customer service is a 1 if I could give it 0 stars I would</td>\n",
              "    </tr>\n",
              "    <tr>\n",
              "      <th>...</th>\n",
              "      <td>...</td>\n",
              "    </tr>\n",
              "    <tr>\n",
              "      <th>9995</th>\n",
              "      <td>Every time I schedule in advance my driver is a minimum of 30 minutes late I schedule to arrive at my destination on time two stars for lack of reliability</td>\n",
              "    </tr>\n",
              "    <tr>\n",
              "      <th>9996</th>\n",
              "      <td>There are no ads within applications wait yes there is to tailored individual taste The app is simple easy for anyone</td>\n",
              "    </tr>\n",
              "    <tr>\n",
              "      <th>9997</th>\n",
              "      <td>Drivers can fail to find you and still charge you Using alternatives from now on</td>\n",
              "    </tr>\n",
              "    <tr>\n",
              "      <th>9998</th>\n",
              "      <td>Absolutely horrible Wait 29 mins for a car that never shows up Tried 3 times was left stranded</td>\n",
              "    </tr>\n",
              "    <tr>\n",
              "      <th>9999</th>\n",
              "      <td>Need operate better the maps but its an amazing option</td>\n",
              "    </tr>\n",
              "  </tbody>\n",
              "</table>\n",
              "<p>10000 rows × 1 columns</p>\n",
              "</div>"
            ],
            "text/plain": [
              "                                                                                                                                                                                                                                                                                                                                                                                                                                                                                                review\n",
              "0                                                                                        It used to be a great app i used it for everything but since drivers are just wasting your time by canceling the trips sometimes even at the point of pick up and its not just once but sometimes it happens to the point of not having any drivers available The reason: they dont accept debit/credit cards anymore just cash And it is for every trip i request Totally disapointed I wont use it again :(\n",
              "1        Painful experience First the app halts after every map movement when selecting location Second everytime it connects to a driver driver accepts the ride and the first message of the driver is Where do you want to go and then the driver decides whether to continue the ride or not Sometimes we have to wait and talk to 34 drivers and waste 3040 minutes before finally using the ride This is not acceptable in any way Why every driver wants 510 minutes ride Maybe your incentives\n",
              "2                           I would say horrible customer service but that would mean they have customer service I waited outside for over an hour trying to reactivate my account after being told since youre in an unsafe location but currently safe I will report your concerns and the team will be with you shortly After 40mins I called again and was told the same thing What is the purpose of having a safety or emergency line when they dont help you in a safety or emergency situation\n",
              "3     Not sure what happened since COVID  probably 2 yrs since my last trip  but it seems in the effort to streamline the app has become confusing: to set pickup points determine where the vehicles are (ie: what the wait time is) and even the vehicle tiers have changed I get that there are users that learn the ins and outs every time there is an app update but if you want to attract more casual users stop changing the interface After 10 minutes of mucking about I just grabbed a cab\n",
              "4                                                                             Usally an ok app but twice Ive had trouble with rides and have received little help Today a driver drove to the drop off address instead of picking me up and when I called her all she said to do was cancel it Contacted customer service and they refuse to give me my money back even though I was never in the car Most of the time its 5 stars but the customer service is a 1 if I could give it 0 stars I would \n",
              "...                                                                                                                                                                                                                                                                                                                                                                                                                                                                                                ...\n",
              "9995                                                                                                                                                                                                                                                                                                                                       Every time I schedule in advance my driver is a minimum of 30 minutes late I schedule to arrive at my destination on time two stars for lack of reliability\n",
              "9996                                                                                                                                                                                                                                                                                                                                                                            There are no ads within applications wait yes there is to tailored individual taste The app is simple easy for anyone \n",
              "9997                                                                                                                                                                                                                                                                                                                                                                                                                  Drivers can fail to find you and still charge you Using alternatives from now on\n",
              "9998                                                                                                                                                                                                                                                                                                                                                                                                    Absolutely horrible Wait 29 mins for a car that never shows up Tried 3 times was left stranded\n",
              "9999                                                                                                                                                                                                                                                                                                                                                                                                                                            Need operate better the maps but its an amazing option\n",
              "\n",
              "[10000 rows x 1 columns]"
            ]
          },
          "metadata": {},
          "execution_count": 33
        }
      ]
    },
    {
      "cell_type": "code",
      "metadata": {
        "id": "WhMZvtjOyOn2"
      },
      "source": [
        "#df_result.insert(1, \"sentiment_scores\", df_result['processed_text'].apply(lambda x: sentiment_score(x[:512])), True)\n",
        "df_app['sentiment']=df_app['review'].apply(lambda x: get_sentiment_score(x[:512]))"
      ],
      "execution_count": 34,
      "outputs": []
    },
    {
      "cell_type": "code",
      "metadata": {
        "colab": {
          "base_uri": "https://localhost:8080/"
        },
        "id": "mj-4OG5oyZfQ",
        "outputId": "8c4e3e7f-6817-4cdd-d39c-c7de09444fc7"
      },
      "source": [
        "negative_reviews = df_app[df_app['sentiment']<=3]['review']\n",
        "negative_reviews"
      ],
      "execution_count": 36,
      "outputs": [
        {
          "output_type": "execute_result",
          "data": {
            "text/plain": [
              "0                                                                                          It used to be a great app i used it for everything but since drivers are just wasting your time by canceling the trips sometimes even at the point of pick up and its not just once but sometimes it happens to the point of not having any drivers available The reason: they dont accept debit/credit cards anymore just cash And it is for every trip i request Totally disapointed I wont use it again :(\n",
              "1          Painful experience First the app halts after every map movement when selecting location Second everytime it connects to a driver driver accepts the ride and the first message of the driver is Where do you want to go and then the driver decides whether to continue the ride or not Sometimes we have to wait and talk to 34 drivers and waste 3040 minutes before finally using the ride This is not acceptable in any way Why every driver wants 510 minutes ride Maybe your incentives\n",
              "2                             I would say horrible customer service but that would mean they have customer service I waited outside for over an hour trying to reactivate my account after being told since youre in an unsafe location but currently safe I will report your concerns and the team will be with you shortly After 40mins I called again and was told the same thing What is the purpose of having a safety or emergency line when they dont help you in a safety or emergency situation\n",
              "3       Not sure what happened since COVID  probably 2 yrs since my last trip  but it seems in the effort to streamline the app has become confusing: to set pickup points determine where the vehicles are (ie: what the wait time is) and even the vehicle tiers have changed I get that there are users that learn the ins and outs every time there is an app update but if you want to attract more casual users stop changing the interface After 10 minutes of mucking about I just grabbed a cab\n",
              "4                                                                               Usally an ok app but twice Ive had trouble with rides and have received little help Today a driver drove to the drop off address instead of picking me up and when I called her all she said to do was cancel it Contacted customer service and they refuse to give me my money back even though I was never in the car Most of the time its 5 stars but the customer service is a 1 if I could give it 0 stars I would \n",
              "                                                                                                                                                                                                                                                      ...                                                                                                                                                                                                                                               \n",
              "9992                                                                                                                                                                               When you book a cab for someone else on cash payment the driver oftenly makes fraud with the less educated passengers by showing the older screenshots of the earlier passengers This app doesnt have any customer service number in India to complain the same Fraud Driver: Md Erfan Uddin Vehicle Number: WB057768\n",
              "9994                                                                                                                                                                                                                                                                                                                                      I feel like i got scammed for $10 because they turned on automatic renewal to my acct And i didnt plan to use it at all for next month at all Very disapointed\n",
              "9995                                                                                                                                                                                                                                                                                                                                         Every time I schedule in advance my driver is a minimum of 30 minutes late I schedule to arrive at my destination on time two stars for lack of reliability\n",
              "9996                                                                                                                                                                                                                                                                                                                                                                              There are no ads within applications wait yes there is to tailored individual taste The app is simple easy for anyone \n",
              "9998                                                                                                                                                                                                                                                                                                                                                                                                      Absolutely horrible Wait 29 mins for a car that never shows up Tried 3 times was left stranded\n",
              "Name: review, Length: 8163, dtype: object"
            ]
          },
          "metadata": {},
          "execution_count": 36
        }
      ]
    },
    {
      "cell_type": "code",
      "metadata": {
        "id": "rgLKqZp3yf0i"
      },
      "source": [
        "df_app=df_app.drop_duplicates()\n",
        "df_negative=pd.DataFrame(np.array(negative_reviews),columns=['processed_review'])"
      ],
      "execution_count": 50,
      "outputs": []
    },
    {
      "cell_type": "markdown",
      "metadata": {
        "id": "U1tPltc3rZv9"
      },
      "source": [
        "# Topic Modelling with LDA"
      ]
    },
    {
      "cell_type": "code",
      "metadata": {
        "id": "eUqlpuIbzZvS"
      },
      "source": [
        "cv = CountVectorizer(max_df=0.95, min_df=2, stop_words='english')\n",
        "vectorizer = cv.fit_transform(df_negative['processed_review'])"
      ],
      "execution_count": 51,
      "outputs": []
    },
    {
      "cell_type": "code",
      "metadata": {
        "colab": {
          "base_uri": "https://localhost:8080/"
        },
        "id": "mhOYHFe_zfN3",
        "outputId": "7979cdb6-b7a7-4bf4-e6a8-466f70366902"
      },
      "source": [
        "LDA = LatentDirichletAllocation(n_components=3,random_state=1)\n",
        "LDA.fit(vectorizer)"
      ],
      "execution_count": 54,
      "outputs": [
        {
          "output_type": "execute_result",
          "data": {
            "text/plain": [
              "LatentDirichletAllocation(batch_size=128, doc_topic_prior=None,\n",
              "                          evaluate_every=-1, learning_decay=0.7,\n",
              "                          learning_method='batch', learning_offset=10.0,\n",
              "                          max_doc_update_iter=100, max_iter=10,\n",
              "                          mean_change_tol=0.001, n_components=4, n_jobs=None,\n",
              "                          perp_tol=0.1, random_state=1, topic_word_prior=None,\n",
              "                          total_samples=1000000.0, verbose=0)"
            ]
          },
          "metadata": {},
          "execution_count": 54
        }
      ]
    },
    {
      "cell_type": "code",
      "metadata": {
        "colab": {
          "base_uri": "https://localhost:8080/"
        },
        "id": "-ug8IyWmzx37",
        "outputId": "26441a7f-f318-4190-810b-02ce69aaff43"
      },
      "source": [
        "for index,topic in enumerate(LDA.components_):\n",
        "    print(f'topic #{index} : ')\n",
        "    print([cv.get_feature_names()[i] for i in topic.argsort()[-20:]])"
      ],
      "execution_count": 129,
      "outputs": [
        {
          "output_type": "stream",
          "name": "stdout",
          "text": [
            "topic #0 : \n",
            "['doesnt', 'said', 'charged', 'tried', 'got', 'phone', 'didnt', 'number', 'issue', 'way', 'contact', 'use', 'help', 'support', 'service', 'customer', 'ride', 'driver', 'app', 'uber']\n",
            "topic #1 : \n",
            "['charge', 'trip', 'ive', 'im', 'money', 'work', 'dont', 'payment', 'using', 'used', 'prices', 'time', 'just', 'account', 'card', 'use', 'ride', 'price', 'uber', 'app']\n",
            "topic #2 : \n",
            "['20', 'mins', '10', 'away', 'rides', 'times', 'dont', 'service', 'trip', 'just', 'waiting', 'app', 'ride', 'wait', 'minutes', 'time', 'uber', 'cancel', 'driver', 'drivers']\n",
            "topic #3 : \n",
            "['payment', 'ask', 'location', 'booking', 'destination', 'experience', 'pay', 'dont', 'cab', 'customer', 'time', 'worst', 'service', 'drivers', 'trip', 'cancel', 'app', 'uber', 'ride', 'driver']\n"
          ]
        }
      ]
    },
    {
      "cell_type": "code",
      "metadata": {
        "id": "R94SsFZezzus"
      },
      "source": [
        "topic_results = LDA.transform(vectorizer)\n",
        "df_topic_results = pd.DataFrame(topic_results, columns=[\n",
        "'0_Service/App related Issues',\n",
        "'1_Payment Issues' ,\n",
        "'2_Driver/Ride Issues'            ,\n",
        "'3_Booking/Cancellation Issues'  , \n",
        "])\n",
        "df_result = pd.merge(df_negative, df_topic_results,  how='inner', left_index=True, right_index=True )\n",
        "df_result.to_csv('app_reviews_bms.csv')"
      ],
      "execution_count": 130,
      "outputs": []
    },
    {
      "cell_type": "markdown",
      "metadata": {
        "id": "P7cRxAlnrjAz"
      },
      "source": [
        "# Final Topics-Reviews Visualization"
      ]
    },
    {
      "cell_type": "code",
      "metadata": {
        "id": "oWA-UM66Fno8"
      },
      "source": [
        "df_visualization= pd.read_csv(\"app_reviews_bms.csv\")\n",
        "df_visualization"
      ],
      "execution_count": null,
      "outputs": []
    },
    {
      "cell_type": "code",
      "metadata": {
        "id": "Hjz00z9ZGTHm"
      },
      "source": [
        "df_visualization['0_Service/App related Issues']=round(df_visualization['0_Service/App related Issues']*100,2)\n",
        "df_visualization['1_Payment Issues']=round(df_visualization['1_Payment Issues']*100,2)\n",
        "df_visualization['2_Driver/Ride Issues']=round(df_visualization['2_Driver/Ride Issues']*100,2)\n",
        "df_visualization['3_Booking/Cancellation Issues']=round(df_visualization['3_Booking/Cancellation Issues']*100,2)"
      ],
      "execution_count": 109,
      "outputs": []
    },
    {
      "cell_type": "code",
      "metadata": {
        "id": "Q3BXyZBeG7PW"
      },
      "source": [
        "df_visualization['0_Service/App related Issues']=df_visualization['0_Service/App related Issues'].astype(str)+\"%\"\n",
        "df_visualization['1_Payment Issues']=df_visualization['1_Payment Issues'].astype(str)+\"%\"\n",
        "df_visualization['2_Driver/Ride Issues']=df_visualization['2_Driver/Ride Issues'].astype(str)+\"%\"\n",
        "df_visualization['3_Booking/Cancellation Issues']=df_visualization['3_Booking/Cancellation Issues'].astype(str)+\"%\"\n"
      ],
      "execution_count": 132,
      "outputs": []
    },
    {
      "cell_type": "code",
      "metadata": {
        "id": "SkFM77A6GCSB"
      },
      "source": [
        "df_visualization"
      ],
      "execution_count": null,
      "outputs": []
    },
    {
      "cell_type": "code",
      "metadata": {
        "id": "nPo6AX_OIIjA"
      },
      "source": [
        "df_list=df_visualization.values.tolist()\n",
        "df_list"
      ],
      "execution_count": null,
      "outputs": []
    },
    {
      "cell_type": "code",
      "metadata": {
        "colab": {
          "base_uri": "https://localhost:8080/"
        },
        "id": "_-DSiB4EIefh",
        "outputId": "6aeef03f-5128-42a3-e4b0-75b0a40f7d98"
      },
      "source": [
        "counter0=0\n",
        "counter1=0\n",
        "counter2=0\n",
        "counter3=0\n",
        "\n",
        "for i in range(0,len(df_list)):\n",
        "  temp=[float(df_list[i][2][:-1]),float(df_list[i][3][:-1]),float(df_list[i][4][:-1]),float(df_list[i][5][:-1])]\n",
        "  if(i==0):\n",
        "    print(temp)\n",
        "  if(max(temp)==float(df_list[i][2][:-1])):\n",
        "    counter0+=1\n",
        "  elif(max(temp)==float(df_list[i][3][:-1])):\n",
        "    counter1+=1\n",
        "  elif(max(temp)==float(df_list[i][4][:-1])):\n",
        "    counter2+=1\n",
        "  elif(max(temp)==float(df_list[i][5][:-1])):\n",
        "    counter3+=1\n",
        "  "
      ],
      "execution_count": 143,
      "outputs": [
        {
          "output_type": "stream",
          "name": "stdout",
          "text": [
            "[0.007813308914790444, 0.35668494679904755, 0.5112405870326964, 0.12426115725346565]\n"
          ]
        }
      ]
    },
    {
      "cell_type": "code",
      "metadata": {
        "colab": {
          "base_uri": "https://localhost:8080/"
        },
        "id": "vRpemukMLd9m",
        "outputId": "cadb54de-c527-4e1f-ed9c-4effb0a2df09"
      },
      "source": [
        "print(len(df_list))\n",
        "print(counter0)\n",
        "print(counter1)\n",
        "print(counter2)\n",
        "print(counter3)"
      ],
      "execution_count": 144,
      "outputs": [
        {
          "output_type": "stream",
          "name": "stdout",
          "text": [
            "8163\n",
            "1516\n",
            "1596\n",
            "2220\n",
            "2831\n"
          ]
        }
      ]
    },
    {
      "cell_type": "code",
      "metadata": {
        "colab": {
          "base_uri": "https://localhost:8080/",
          "height": 297
        },
        "id": "mnkbqyKHMcW0",
        "outputId": "48fe77f6-e475-401d-ca62-916122ff421b"
      },
      "source": [
        "# Pie chart\n",
        "labels = ['Service/App related Issues',\n",
        "'Payment Issues' ,\n",
        "'Driver/Ride Issues'            ,\n",
        "'Booking/Cancellation Issues']\n",
        "sizes = [counter0, counter1, counter2, counter3]\n",
        "# only \"explode\" the 2nd slice (i.e. 'Hogs')\n",
        "explode = (0, 0.1, 0, 0)  \n",
        "fig1, ax1 = plt.subplots()\n",
        "ax1.pie(sizes, explode=explode, labels=labels, autopct='%1.1f%%',\n",
        "        shadow=True, startangle=90)\n",
        "# Equal aspect ratio ensures that pie is drawn as a circle\n",
        "ax1.axis('equal')  \n",
        "plt.tight_layout()\n",
        "plt.show()"
      ],
      "execution_count": 146,
      "outputs": [
        {
          "output_type": "display_data",
          "data": {
            "image/png": "[encoded data removed]",
            "text/plain": [
              "<Figure size 432x288 with 1 Axes>"
            ]
          },
          "metadata": {}
        }
      ]
    },
    {
      "cell_type": "code",
      "metadata": {
        "colab": {
          "base_uri": "https://localhost:8080/",
          "height": 297
        },
        "id": "K3kLqDEwNVno",
        "outputId": "fbbfc256-eae1-45a9-c08e-8a8d62feb562"
      },
      "source": [
        "import matplotlib.pyplot as plt\n",
        "# Pie chart\n",
        "labels = ['Service/App related Issues',\n",
        "'Payment Issues' ,\n",
        "'Driver/Ride Issues'            ,\n",
        "'Booking/Cancellation Issues']\n",
        "sizes = [counter0, counter1, counter2, counter3]\n",
        "#colors\n",
        "colors = ['#FF0000','#00ABF0','#3CB043','#FFA500']\n",
        " \n",
        "fig1, ax1 = plt.subplots()\n",
        "ax1.pie(sizes, colors = colors, labels=labels, autopct='%1.1f%%', startangle=90)\n",
        "#draw circle\n",
        "centre_circle = plt.Circle((0,0),0.75,fc='white')\n",
        "fig = plt.gcf()\n",
        "fig.gca().add_artist(centre_circle)\n",
        "# Equal aspect ratio ensures that pie is drawn as a circle\n",
        "ax1.axis('equal')  \n",
        "plt.tight_layout()\n",
        "plt.show()"
      ],
      "execution_count": 156,
      "outputs": [
        {
          "output_type": "display_data",
          "data": {
            "image/png": "[encoded data removed]",
            "text/plain": [
              "<Figure size 432x288 with 1 Axes>"
            ]
          },
          "metadata": {}
        }
      ]
    },
    {
      "cell_type": "code",
      "metadata": {
        "colab": {
          "base_uri": "https://localhost:8080/",
          "height": 279
        },
        "id": "-tAALh6aQKIr",
        "outputId": "c4b0d5c9-abbf-4def-f5f7-c3ae779a25ee"
      },
      "source": [
        "plt.barh(labels, sizes, color=colors)\n",
        "plt.xlabel(\"Number of complaints\",fontweight ='bold')\n",
        "plt.ylabel(\"Topics for Negative Reviews\",fontweight ='bold')\n",
        "plt.show()"
      ],
      "execution_count": 179,
      "outputs": [
        {
          "output_type": "display_data",
          "data": {
            "image/png": "[encoded data removed]",
            "text/plain": [
              "<Figure size 432x288 with 1 Axes>"
            ]
          },
          "metadata": {
            "needs_background": "light"
          }
        }
      ]
    }
  ]
}
